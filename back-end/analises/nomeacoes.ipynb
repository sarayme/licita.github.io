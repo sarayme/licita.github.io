{
 "cells": [
  {
   "cell_type": "code",
   "execution_count": 1,
   "metadata": {},
   "outputs": [
    {
     "name": "stdout",
     "output_type": "stream",
     "text": [
      "(53102, 9)\n",
      "   municipio       cod  possui_nomeacoes  possui_exoneracoes  num_nomeacoes  \\\n",
      "0  arapiraca  7FAF9A43             False               False              0   \n",
      "1  arapiraca  799E1734             False               False              0   \n",
      "2  arapiraca  AE23279C             False               False              0   \n",
      "3  arapiraca  A3E1293A             False               False              0   \n",
      "4  arapiraca  1E3A9996             False               False              0   \n",
      "\n",
      "   num_exoneracoes   ano  mes  dia  \n",
      "0                0  2022    2   25  \n",
      "1                0  2022    2   25  \n",
      "2                0  2022    2   25  \n",
      "3                0  2022    2   25  \n",
      "4                0  2022    2   25  \n",
      "\n",
      "## Total de municípios: 92\n"
     ]
    }
   ],
   "source": [
    "import pandas as pd\n",
    "\n",
    "df = pd.read_json(\"https://github.com/danielfireman/ifal-qd/raw/main/df.zip\")\n",
    "print(df.shape)\n",
    "print(df.head())\n",
    "print(\"\\n## Total de municípios: \" + str(df[\"municipio\"].unique().size))\n"
   ]
  },
  {
   "cell_type": "code",
   "execution_count": 2,
   "metadata": {},
   "outputs": [
    {
     "name": "stdout",
     "output_type": "stream",
     "text": [
      "\n",
      "## Total de atos: 53102\n",
      "\n",
      "## Total de Atos por mês\n",
      "\n",
      "ano   mes\n",
      "2021  1      1649\n",
      "      2      1278\n",
      "      3      1693\n",
      "      4      1744\n",
      "      5      1717\n",
      "      6      1741\n",
      "      7      2185\n",
      "      8      2188\n",
      "      9      2223\n",
      "      10     1959\n",
      "      11     1906\n",
      "      12     2316\n",
      "2022  1      1786\n",
      "      2      2376\n",
      "      3      2937\n",
      "      4      2576\n",
      "      5      3068\n",
      "      6      3050\n",
      "      7      2787\n",
      "      8      3006\n",
      "      9      2455\n",
      "      10     1918\n",
      "      11     2215\n",
      "      12     2329\n",
      "Name: cod, dtype: int64\n"
     ]
    }
   ],
   "source": [
    "print(\"\\n## Total de atos: \" + df[\"cod\"].count().astype(str))\n",
    "\n",
    "print(\"\\n## Total de Atos por mês\\n\")\n",
    "print(df.groupby([\"ano\", \"mes\"])[\"cod\"].count())\n"
   ]
  },
  {
   "cell_type": "code",
   "execution_count": 3,
   "metadata": {},
   "outputs": [
    {
     "name": "stdout",
     "output_type": "stream",
     "text": [
      "\n",
      "## Média de Atos dos município mês\n",
      "\n",
      "ano   mes\n",
      "2021  1      26.174603\n",
      "      2      17.750000\n",
      "      3      20.901235\n",
      "      4      21.268293\n",
      "      5      20.939024\n",
      "      6      21.231707\n",
      "      7      26.325301\n",
      "      8      25.149425\n",
      "      9      26.464286\n",
      "      10     23.047059\n",
      "      11     22.423529\n",
      "      12     27.903614\n",
      "2022  1      21.780488\n",
      "      2      28.285714\n",
      "      3      34.151163\n",
      "      4      31.414634\n",
      "      5      35.264368\n",
      "      6      35.465116\n",
      "      7      32.406977\n",
      "      8      35.364706\n",
      "      9      27.897727\n",
      "      10     22.045977\n",
      "      11     26.369048\n",
      "      12     27.400000\n",
      "Name: cod, dtype: float64\n"
     ]
    }
   ],
   "source": [
    "print(\"\\n## Média de Atos dos município mês\\n\")\n",
    "print(df.groupby([\"ano\", \"mes\"])[[\"cod\", \"municipio\"]].apply(\n",
    "    lambda x: x.count() / x[\"municipio\"].unique().size)[\"cod\"])\n"
   ]
  },
  {
   "cell_type": "code",
   "execution_count": 4,
   "metadata": {},
   "outputs": [
    {
     "name": "stdout",
     "output_type": "stream",
     "text": [
      "\n",
      "## Top 10 Municípios com maior número de atos\n",
      "\n",
      "municipio\n",
      "marechal-deodoro      4204\n",
      "delmiro-gouveia       3091\n",
      "arapiraca             2874\n",
      "teotonio-vilela       2722\n",
      "rio-largo             2390\n",
      "campo-alegre          2231\n",
      "maragogi              2095\n",
      "pilar                 1595\n",
      "junqueiro             1249\n",
      "sao-jose-da-tapera    1206\n",
      "Name: cod, dtype: int64\n"
     ]
    }
   ],
   "source": [
    "print(\"\\n## Top 10 Municípios com maior número de atos\\n\")\n",
    "print(df.groupby([\"municipio\"])[\"cod\"].count().sort_values(ascending=False).head(10))\n"
   ]
  },
  {
   "cell_type": "code",
   "execution_count": 5,
   "metadata": {},
   "outputs": [
    {
     "name": "stdout",
     "output_type": "stream",
     "text": [
      "\n",
      "## Total de nomeações: 4965\n",
      "\n",
      "## Nomeações por mês\n",
      "\n",
      "ano   mes\n",
      "2021  1      768\n",
      "      2      242\n",
      "      3      193\n",
      "      4      376\n",
      "      5       93\n",
      "      6       67\n",
      "      7       54\n",
      "      8       87\n",
      "      9      425\n",
      "      10      99\n",
      "      11      49\n",
      "      12      53\n",
      "2022  1      108\n",
      "      2      215\n",
      "      3      593\n",
      "      4      293\n",
      "      5      141\n",
      "      6      406\n",
      "      7      182\n",
      "      8      124\n",
      "      9      168\n",
      "      10      79\n",
      "      11      59\n",
      "      12      91\n",
      "Name: num_nomeacoes, dtype: int64\n"
     ]
    }
   ],
   "source": [
    "print(\"\\n## Total de nomeações: \" + df[\"num_nomeacoes\"].sum().astype(str))\n",
    "\n",
    "print(\"\\n## Nomeações por mês\\n\")\n",
    "print(df.groupby([\"ano\", \"mes\"])[\"num_nomeacoes\"].sum())"
   ]
  },
  {
   "cell_type": "code",
   "execution_count": 6,
   "metadata": {},
   "outputs": [
    {
     "name": "stdout",
     "output_type": "stream",
     "text": [
      "\n",
      "## Média de Nomeações dos município por mês\n",
      "\n",
      "ano   mes\n",
      "2021  1      12.190476\n",
      "      2       3.361111\n",
      "      3       2.382716\n",
      "      4       4.585366\n",
      "      5       1.134146\n",
      "      6       0.817073\n",
      "      7       0.650602\n",
      "      8       1.000000\n",
      "      9       5.059524\n",
      "      10      1.164706\n",
      "      11      0.576471\n",
      "      12      0.638554\n",
      "2022  1       1.317073\n",
      "      2       2.559524\n",
      "      3       6.895349\n",
      "      4       3.573171\n",
      "      5       1.620690\n",
      "      6       4.720930\n",
      "      7       2.116279\n",
      "      8       1.458824\n",
      "      9       1.909091\n",
      "      10      0.908046\n",
      "      11      0.702381\n",
      "      12      1.070588\n",
      "dtype: float64\n"
     ]
    }
   ],
   "source": [
    "print(\"\\n## Média de Nomeações dos município por mês\\n\")\n",
    "print(df.groupby([\"ano\", \"mes\"])[[\"municipio\", \"num_nomeacoes\"]].apply(\n",
    "    lambda x: x[\"num_nomeacoes\"].sum() / x[\"municipio\"].unique().size))"
   ]
  },
  {
   "cell_type": "code",
   "execution_count": 7,
   "metadata": {},
   "outputs": [
    {
     "name": "stdout",
     "output_type": "stream",
     "text": [
      "\n",
      "## Top 10 Municípios com maior número de nomeações\n",
      "\n",
      "municipio\n",
      "maragogi            792\n",
      "marechal-deodoro    515\n",
      "delmiro-gouveia     459\n",
      "teotonio-vilela     367\n",
      "mata-grande         283\n",
      "rio-largo           226\n",
      "piranhas            204\n",
      "junqueiro           190\n",
      "arapiraca           154\n",
      "inhapi              131\n",
      "Name: num_nomeacoes, dtype: int64\n"
     ]
    }
   ],
   "source": [
    "print(\"\\n## Top 10 Municípios com maior número de nomeações\\n\")\n",
    "print(df.groupby([\"municipio\"])[\"num_nomeacoes\"].sum(\n",
    ").sort_values(ascending=False).head(10))"
   ]
  },
  {
   "cell_type": "code",
   "execution_count": 8,
   "metadata": {},
   "outputs": [
    {
     "name": "stdout",
     "output_type": "stream",
     "text": [
      "\n",
      "## Total de exonerações: 757\n",
      "\n",
      "## Exonerações por mês\n",
      "\n",
      "ano   mes\n",
      "2021  1      14\n",
      "      2       8\n",
      "      3      29\n",
      "      4      45\n",
      "      5      15\n",
      "      6      14\n",
      "      7      15\n",
      "      8      12\n",
      "      9      67\n",
      "      10     26\n",
      "      11     13\n",
      "      12     14\n",
      "2022  1      14\n",
      "      2      61\n",
      "      3      39\n",
      "      4      44\n",
      "      5      42\n",
      "      6      36\n",
      "      7      95\n",
      "      8      30\n",
      "      9      33\n",
      "      10     34\n",
      "      11     23\n",
      "      12     34\n",
      "Name: num_exoneracoes, dtype: int64\n"
     ]
    }
   ],
   "source": [
    "print(\"\\n## Total de exonerações: \" + df[\"num_exoneracoes\"].sum().astype(str))\n",
    "\n",
    "print(\"\\n## Exonerações por mês\\n\")\n",
    "print(df.groupby([\"ano\", \"mes\"])[\"num_exoneracoes\"].sum())"
   ]
  },
  {
   "cell_type": "code",
   "execution_count": 9,
   "metadata": {},
   "outputs": [
    {
     "name": "stdout",
     "output_type": "stream",
     "text": [
      "\n",
      "## Média de Exonerações dos município por mês\n",
      "\n",
      "ano   mes\n",
      "2021  1      0.222222\n",
      "      2      0.111111\n",
      "      3      0.358025\n",
      "      4      0.548780\n",
      "      5      0.182927\n",
      "      6      0.170732\n",
      "      7      0.180723\n",
      "      8      0.137931\n",
      "      9      0.797619\n",
      "      10     0.305882\n",
      "      11     0.152941\n",
      "      12     0.168675\n",
      "2022  1      0.170732\n",
      "      2      0.726190\n",
      "      3      0.453488\n",
      "      4      0.536585\n",
      "      5      0.482759\n",
      "      6      0.418605\n",
      "      7      1.104651\n",
      "      8      0.352941\n",
      "      9      0.375000\n",
      "      10     0.390805\n",
      "      11     0.273810\n",
      "      12     0.400000\n",
      "dtype: float64\n"
     ]
    }
   ],
   "source": [
    "print(\"\\n## Média de Exonerações dos município por mês\\n\")\n",
    "print(df.groupby([\"ano\", \"mes\"])[[\"municipio\", \"num_exoneracoes\"]].apply(\n",
    "    lambda x: x[\"num_exoneracoes\"].sum() / x[\"municipio\"].unique().size))"
   ]
  },
  {
   "cell_type": "code",
   "execution_count": 10,
   "metadata": {},
   "outputs": [
    {
     "name": "stdout",
     "output_type": "stream",
     "text": [
      "\n",
      "## Top 10 Municípios com maior número de exonerações\n",
      "\n",
      "municipio\n",
      "maragogi              136\n",
      "delmiro-gouveia       122\n",
      "rio-largo              65\n",
      "minador-do-negrao      58\n",
      "marechal-deodoro       51\n",
      "inhapi                 38\n",
      "pilar                  26\n",
      "piranhas               21\n",
      "pao-de-acucar          21\n",
      "sao-jose-da-tapera     21\n",
      "Name: num_exoneracoes, dtype: int64\n"
     ]
    }
   ],
   "source": [
    "print(\"\\n## Top 10 Municípios com maior número de exonerações\\n\")\n",
    "print(df.groupby([\"municipio\"])[\"num_exoneracoes\"].sum().sort_values(ascending=False).head(10))"
   ]
  }
 ],
 "metadata": {
  "kernelspec": {
   "display_name": "Python 3",
   "language": "python",
   "name": "python3"
  },
  "language_info": {
   "codemirror_mode": {
    "name": "ipython",
    "version": 3
   },
   "file_extension": ".py",
   "mimetype": "text/x-python",
   "name": "python",
   "nbconvert_exporter": "python",
   "pygments_lexer": "ipython3",
   "version": "3.10.7"
  },
  "orig_nbformat": 4,
  "vscode": {
   "interpreter": {
    "hash": "aee8b7b246df8f9039afb4144a1f6fd8d2ca17a180786b69acc140d282b71a49"
   }
  }
 },
 "nbformat": 4,
 "nbformat_minor": 2
}
